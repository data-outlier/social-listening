{
 "cells": [
  {
   "cell_type": "markdown",
   "metadata": {},
   "source": [
    "# Social Listening on Twitter Data"
   ]
  },
  {
   "cell_type": "markdown",
   "metadata": {},
   "source": [
    "## Requirements"
   ]
  },
  {
   "cell_type": "markdown",
   "metadata": {},
   "source": [
    "Basic requirements for scrapping on twitter social network:\n",
    "\n",
    "1.- Libraries used so far  \n",
    "2.- Twitter Developer Profile Credentials  \n",
    "3.- Authentication  \n",
    "4.- API"
   ]
  },
  {
   "cell_type": "code",
   "execution_count": 1,
   "metadata": {},
   "outputs": [],
   "source": [
    "##=============================================================================\n",
    "## LIBRARIES\n",
    "##=============================================================================\n",
    "### This libraires will help us to run all the codes. \n",
    "##=============================================================================\n",
    "\n",
    "import sys, tweepy, json, pandas as pd, seaborn as sns\n",
    "from datetime import datetime"
   ]
  },
  {
   "cell_type": "code",
   "execution_count": 10,
   "metadata": {},
   "outputs": [],
   "source": [
    "##=============================================================================\n",
    "## CREDENTIALS\n",
    "##=============================================================================\n",
    "### These are my personal twitter developer keys to scrap into twitter and get \n",
    "### some tweets. \n",
    "##=============================================================================\n",
    "\n",
    "with open(\"credentials.txt\") as access:\n",
    "    text = access.read().strip().split()\n",
    "    for line in access:\n",
    "        lines = line.split\n",
    "        s = lines[0]\n",
    "consumer_key = text[0]\n",
    "consumer_secret = text[1]\n",
    "access_token = text[2]\n",
    "access_token_secret = text[3]"
   ]
  },
  {
   "cell_type": "code",
   "execution_count": 11,
   "metadata": {},
   "outputs": [],
   "source": [
    "##=============================================================================\n",
    "## AUTHENTICATION\n",
    "##=============================================================================\n",
    "### This is the way to \"log in\" into my developer account. \n",
    "##=============================================================================\n",
    "auth = tweepy.OAuthHandler(consumer_key, consumer_secret)\n",
    "auth.set_access_token(access_token, access_token_secret)"
   ]
  },
  {
   "cell_type": "code",
   "execution_count": 12,
   "metadata": {},
   "outputs": [],
   "source": [
    "##=============================================================================\n",
    "## API\n",
    "##=============================================================================\n",
    "### With this API I can connect my account to twitter and get the twitts. \n",
    "##=============================================================================\n",
    "api = tweepy.API(auth, wait_on_rate_limit = True)"
   ]
  },
  {
   "cell_type": "markdown",
   "metadata": {},
   "source": [
    "## Case One: El Palacio de Hierro"
   ]
  },
  {
   "cell_type": "markdown",
   "metadata": {},
   "source": [
    "In this case we will analize what \"El Palacio de Hierro\" is tweeting (products, services, targets) and what it is being said about this luxury retailer according to people's opinion."
   ]
  },
  {
   "cell_type": "markdown",
   "metadata": {},
   "source": [
    "### Searching for user basic information"
   ]
  },
  {
   "cell_type": "markdown",
   "metadata": {},
   "source": [
    "<img src=\"images\\palace.png\">"
   ]
  },
  {
   "cell_type": "code",
   "execution_count": 18,
   "metadata": {
    "scrolled": false
   },
   "outputs": [
    {
     "name": "stdout",
     "output_type": "stream",
     "text": [
      "dict_keys(['id', 'id_str', 'name', 'screen_name', 'location', 'profile_location', 'description', 'url', 'entities', 'protected', 'followers_count', 'friends_count', 'listed_count', 'created_at', 'favourites_count', 'utc_offset', 'time_zone', 'geo_enabled', 'verified', 'statuses_count', 'lang', 'status', 'contributors_enabled', 'is_translator', 'is_translation_enabled', 'profile_background_color', 'profile_background_image_url', 'profile_background_image_url_https', 'profile_background_tile', 'profile_image_url', 'profile_image_url_https', 'profile_banner_url', 'profile_link_color', 'profile_sidebar_border_color', 'profile_sidebar_fill_color', 'profile_text_color', 'profile_use_background_image', 'has_extended_profile', 'default_profile', 'default_profile_image', 'following', 'follow_request_sent', 'notifications', 'translator_type'])\n",
      "Cuenta verificada: True\n",
      "Ubicación: Ciudad de México\n",
      "Descripción: Jefa de Gobierno de la Ciudad de México 2018-2024\n",
      "Enlaces: https://t.co/JZGBCgu369\n",
      "Seguidores: 1344163\n",
      "Siguiendo: 1389\n",
      "Tweets: 20559\n"
     ]
    }
   ],
   "source": [
    "#Searching user basic info\n",
    "data = api.get_user(screen_name ='Claudiashein')\n",
    "user = json.dumps(data._json, indent = 2)\n",
    "user_info = json.loads(user)\n",
    "print(user_info.keys())\n",
    "user_name = user_info.get('name')\n",
    "user_id = user_info.get('screen_name')\n",
    "user_creation = user_info.get('created_at')\n",
    "user_description = user_info.get('description')\n",
    "user_verified = user_info.get('verified')\n",
    "user_location = user_info.get('location')\n",
    "user_url = user_info.get('url')\n",
    "user_followers = user_info.get('followers')\n",
    "print('Seguidores:',user_info['followers_count'])\n",
    "print('Siguiendo:',user_info['friends_count'])\n",
    "print('Tweets:',user_info['statuses_count'])"
   ]
  },
  {
   "cell_type": "code",
   "execution_count": 6,
   "metadata": {
    "scrolled": false
   },
   "outputs": [],
   "source": [
    "#Searching for tweets of a certain user.\n",
    "timeline = []\n",
    "for tweet in tweepy.Cursor(api.user_timeline, screen_name = 'palaciohierro', tweet_mode = 'extended').items(100):\n",
    "    tweets = json.dumps(tweet._json, indent = 2)\n",
    "    user_tweets = json.loads(tweets)\n",
    "    creation = user_tweets.get('created_at')\n",
    "    text = user_tweets.get('full_text')\n",
    "    user_reply = user_tweets.get('in_reply_to_screen_name')\n",
    "    retweets = user_tweets.get('retweet_count')\n",
    "    favorites = user_tweets.get('favortite_count')\n",
    "    favorited = user_tweets.get('favorited')\n",
    "    retweeted = user_tweets.get('retweet')\n",
    "    language = user_tweets.get('lang')\n",
    "    tweet_info = [text,creation,user_reply,retweets,favorites,favorited,retweeted,language]\n",
    "    timeline.append(tweet_info)\n",
    "timeline\n",
    "columnas = ['tweets','creation_date','user','retweets','favorites','favorited','retweeted','language']\n",
    "df = pd.DataFrame(timeline,columns = columnas)"
   ]
  },
  {
   "cell_type": "code",
   "execution_count": 7,
   "metadata": {},
   "outputs": [],
   "source": [
    "# Cambiando la fecha del dataframe para dar con hora local (from UTC to CST) \n",
    "df['creation_date'] = pd.to_datetime(df['creation_date'])\n",
    "df['creation_date'].dt.tz\n",
    "df['creation_date'] = df['creation_date'].dt.tz_convert('America/Mexico_City')"
   ]
  },
  {
   "cell_type": "code",
   "execution_count": 13,
   "metadata": {},
   "outputs": [
    {
     "data": {
      "text/html": [
       "<div>\n",
       "<style scoped>\n",
       "    .dataframe tbody tr th:only-of-type {\n",
       "        vertical-align: middle;\n",
       "    }\n",
       "\n",
       "    .dataframe tbody tr th {\n",
       "        vertical-align: top;\n",
       "    }\n",
       "\n",
       "    .dataframe thead th {\n",
       "        text-align: right;\n",
       "    }\n",
       "</style>\n",
       "<table border=\"1\" class=\"dataframe\">\n",
       "  <thead>\n",
       "    <tr style=\"text-align: right;\">\n",
       "      <th></th>\n",
       "      <th>tweets</th>\n",
       "      <th>creation_date</th>\n",
       "      <th>user</th>\n",
       "      <th>retweets</th>\n",
       "      <th>favorites</th>\n",
       "      <th>favorited</th>\n",
       "      <th>retweeted</th>\n",
       "      <th>language</th>\n",
       "    </tr>\n",
       "  </thead>\n",
       "  <tbody>\n",
       "    <tr>\n",
       "      <th>41</th>\n",
       "      <td>@Diego_G_Ruiz ¡Hola, Diego! ¡El búho te proteg...</td>\n",
       "      <td>2020-09-27 19:05:55-05:00</td>\n",
       "      <td>Diego_G_Ruiz</td>\n",
       "      <td>0</td>\n",
       "      <td>None</td>\n",
       "      <td>False</td>\n",
       "      <td>None</td>\n",
       "      <td>es</td>\n",
       "    </tr>\n",
       "    <tr>\n",
       "      <th>63</th>\n",
       "      <td>@kasta911 ¡Hola, Ana! Tu animal protector es e...</td>\n",
       "      <td>2020-09-27 15:17:04-05:00</td>\n",
       "      <td>kasta911</td>\n",
       "      <td>0</td>\n",
       "      <td>None</td>\n",
       "      <td>False</td>\n",
       "      <td>None</td>\n",
       "      <td>es</td>\n",
       "    </tr>\n",
       "    <tr>\n",
       "      <th>49</th>\n",
       "      <td>@IQAlfo81 Hola  Aldo G Compártenos la informac...</td>\n",
       "      <td>2020-09-27 16:25:15-05:00</td>\n",
       "      <td>IQAlfo81</td>\n",
       "      <td>0</td>\n",
       "      <td>None</td>\n",
       "      <td>False</td>\n",
       "      <td>None</td>\n",
       "      <td>es</td>\n",
       "    </tr>\n",
       "    <tr>\n",
       "      <th>39</th>\n",
       "      <td>@VeroVoiceOver Hola Vero , ¿En que podemos ayu...</td>\n",
       "      <td>2020-09-27 19:08:48-05:00</td>\n",
       "      <td>VeroVoiceOver</td>\n",
       "      <td>0</td>\n",
       "      <td>None</td>\n",
       "      <td>False</td>\n",
       "      <td>None</td>\n",
       "      <td>es</td>\n",
       "    </tr>\n",
       "    <tr>\n",
       "      <th>91</th>\n",
       "      <td>@VaneGam Hola Vanessa. Compártenos la siguient...</td>\n",
       "      <td>2020-09-27 11:12:29-05:00</td>\n",
       "      <td>VaneGam</td>\n",
       "      <td>0</td>\n",
       "      <td>None</td>\n",
       "      <td>False</td>\n",
       "      <td>None</td>\n",
       "      <td>es</td>\n",
       "    </tr>\n",
       "    <tr>\n",
       "      <th>99</th>\n",
       "      <td>@Ramirez_jose3 ¡Hola, José! Tu animal protecto...</td>\n",
       "      <td>2020-09-26 23:29:19-05:00</td>\n",
       "      <td>Ramirez_jose3</td>\n",
       "      <td>0</td>\n",
       "      <td>None</td>\n",
       "      <td>False</td>\n",
       "      <td>None</td>\n",
       "      <td>es</td>\n",
       "    </tr>\n",
       "    <tr>\n",
       "      <th>29</th>\n",
       "      <td>@SalazarOdin ¡Hola, Juan! El venado es tu anim...</td>\n",
       "      <td>2020-09-27 21:03:51-05:00</td>\n",
       "      <td>SalazarOdin</td>\n",
       "      <td>0</td>\n",
       "      <td>None</td>\n",
       "      <td>False</td>\n",
       "      <td>None</td>\n",
       "      <td>es</td>\n",
       "    </tr>\n",
       "    <tr>\n",
       "      <th>22</th>\n",
       "      <td>Flores para llevar. 💐 📷 https://t.co/IulA98rqZ...</td>\n",
       "      <td>2020-09-28 08:00:45-05:00</td>\n",
       "      <td>None</td>\n",
       "      <td>1</td>\n",
       "      <td>None</td>\n",
       "      <td>False</td>\n",
       "      <td>None</td>\n",
       "      <td>es</td>\n",
       "    </tr>\n",
       "    <tr>\n",
       "      <th>38</th>\n",
       "      <td>@Jerryko16541850 Hola, Jerryko. Seguimos atent...</td>\n",
       "      <td>2020-09-27 19:14:11-05:00</td>\n",
       "      <td>Jerryko16541850</td>\n",
       "      <td>0</td>\n",
       "      <td>None</td>\n",
       "      <td>False</td>\n",
       "      <td>None</td>\n",
       "      <td>es</td>\n",
       "    </tr>\n",
       "    <tr>\n",
       "      <th>55</th>\n",
       "      <td>@luisems157 ¡Hola, Luis! El chango es tu anima...</td>\n",
       "      <td>2020-09-27 15:23:27-05:00</td>\n",
       "      <td>luisems157</td>\n",
       "      <td>0</td>\n",
       "      <td>None</td>\n",
       "      <td>False</td>\n",
       "      <td>None</td>\n",
       "      <td>es</td>\n",
       "    </tr>\n",
       "  </tbody>\n",
       "</table>\n",
       "</div>"
      ],
      "text/plain": [
       "                                               tweets  \\\n",
       "41  @Diego_G_Ruiz ¡Hola, Diego! ¡El búho te proteg...   \n",
       "63  @kasta911 ¡Hola, Ana! Tu animal protector es e...   \n",
       "49  @IQAlfo81 Hola  Aldo G Compártenos la informac...   \n",
       "39  @VeroVoiceOver Hola Vero , ¿En que podemos ayu...   \n",
       "91  @VaneGam Hola Vanessa. Compártenos la siguient...   \n",
       "99  @Ramirez_jose3 ¡Hola, José! Tu animal protecto...   \n",
       "29  @SalazarOdin ¡Hola, Juan! El venado es tu anim...   \n",
       "22  Flores para llevar. 💐 📷 https://t.co/IulA98rqZ...   \n",
       "38  @Jerryko16541850 Hola, Jerryko. Seguimos atent...   \n",
       "55  @luisems157 ¡Hola, Luis! El chango es tu anima...   \n",
       "\n",
       "               creation_date             user  retweets favorites  favorited  \\\n",
       "41 2020-09-27 19:05:55-05:00     Diego_G_Ruiz         0      None      False   \n",
       "63 2020-09-27 15:17:04-05:00         kasta911         0      None      False   \n",
       "49 2020-09-27 16:25:15-05:00         IQAlfo81         0      None      False   \n",
       "39 2020-09-27 19:08:48-05:00    VeroVoiceOver         0      None      False   \n",
       "91 2020-09-27 11:12:29-05:00          VaneGam         0      None      False   \n",
       "99 2020-09-26 23:29:19-05:00    Ramirez_jose3         0      None      False   \n",
       "29 2020-09-27 21:03:51-05:00      SalazarOdin         0      None      False   \n",
       "22 2020-09-28 08:00:45-05:00             None         1      None      False   \n",
       "38 2020-09-27 19:14:11-05:00  Jerryko16541850         0      None      False   \n",
       "55 2020-09-27 15:23:27-05:00       luisems157         0      None      False   \n",
       "\n",
       "   retweeted language  \n",
       "41      None       es  \n",
       "63      None       es  \n",
       "49      None       es  \n",
       "39      None       es  \n",
       "91      None       es  \n",
       "99      None       es  \n",
       "29      None       es  \n",
       "22      None       es  \n",
       "38      None       es  \n",
       "55      None       es  "
      ]
     },
     "execution_count": 13,
     "metadata": {},
     "output_type": "execute_result"
    }
   ],
   "source": [
    "df.sample(10)"
   ]
  },
  {
   "cell_type": "code",
   "execution_count": 9,
   "metadata": {},
   "outputs": [],
   "source": [
    "df.to_csv(r'data\\c1_cien_tweets_.csv')"
   ]
  },
  {
   "cell_type": "code",
   "execution_count": null,
   "metadata": {
    "scrolled": false
   },
   "outputs": [],
   "source": [
    "#Searching for specific topics\n",
    "for tweet in tweepy.Cursor(api.search, q = 'palacio de hierro', tweet_mode = 'extended').items(100):\n",
    "    print(tweet._json['full_text'], '\\n')"
   ]
  },
  {
   "cell_type": "code",
   "execution_count": null,
   "metadata": {},
   "outputs": [],
   "source": []
  }
 ],
 "metadata": {
  "kernelspec": {
   "display_name": "Python 3",
   "language": "python",
   "name": "python3"
  },
  "language_info": {
   "codemirror_mode": {
    "name": "ipython",
    "version": 3
   },
   "file_extension": ".py",
   "mimetype": "text/x-python",
   "name": "python",
   "nbconvert_exporter": "python",
   "pygments_lexer": "ipython3",
   "version": "3.8.3"
  }
 },
 "nbformat": 4,
 "nbformat_minor": 4
}
